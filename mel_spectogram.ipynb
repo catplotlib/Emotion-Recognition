{
 "cells": [
  {
   "cell_type": "code",
   "execution_count": 2,
   "metadata": {},
   "outputs": [],
   "source": [
    "import librosa\n",
    "import numpy as np"
   ]
  },
  {
   "cell_type": "code",
   "execution_count": null,
   "metadata": {},
   "outputs": [],
   "source": [
    "path = '/content/drive/My Drive/Ravdess'\n",
    "lst = []\n",
    "\n",
    "for subdir, dirs, files in os.walk(path):\n",
    "  for file in files:\n",
    "      try:\n",
    "        #Load librosa array, obtain mfcss, store the file and the mcss information in a new array\n",
    "        X, sample_rate = librosa.load(os.path.join(subdir,file), res_type='kaiser_fast')\n",
    "        mfccs = np.mean(librosa.feature.mfcc(y=X, sr=sample_rate, n_mfcc=40).T,axis=0) \n",
    "        file = file[6:8]\n",
    "        arr = mfccs, file\n",
    "        lst.append(arr)\n",
    "      # If the file is not valid, skip it\n",
    "      except ValueError:\n",
    "        continue"
   ]
  },
  {
   "cell_type": "code",
   "execution_count": null,
   "metadata": {},
   "outputs": [],
   "source": [
    "Modality (01 = full-AV, 02 = video-only, 03 = audio-only).\n",
    "Vocal channel (01 = speech, 02 = song).\n",
    "Emotion (01 = neutral, 02 = calm, 03 = happy, 04 = sad, 05 = angry, 06 = fearful, 07 = disgust, 08 = surprised).\n",
    "Emotional intensity (01 = normal, 02 = strong). NOTE: There is no strong intensity for the 'neutral' emotion.\n",
    "Statement (01 = \"Kids are talking by the door\", 02 = \"Dogs are sitting by the door\").\n",
    "Repetition (01 = 1st repetition, 02 = 2nd repetition).\n",
    "Actor (01 to 24. Odd numbered actors are male, even numbered actors are female).\n"
   ]
  },
  {
   "cell_type": "code",
   "execution_count": 68,
   "metadata": {},
   "outputs": [],
   "source": [
    "g='03-01-01-01-01-02-02.wav'\n",
    "t='C:/Users/LEGION/Documents/speech/RAVDESS/rav/Actor_01'\n",
    "b, sr = librosa.load(g,44100)\n",
    "st=librosa.stft(b, n_fft=1024, hop_length=32, win_length=None, window='hann', center=False, dtype=None, pad_mode='reflect')\n"
   ]
  },
  {
   "cell_type": "code",
   "execution_count": 69,
   "metadata": {},
   "outputs": [],
   "source": [
    "d=librosa.get_duration(b)"
   ]
  },
  {
   "cell_type": "code",
   "execution_count": 70,
   "metadata": {},
   "outputs": [
    {
     "data": {
      "text/plain": [
       "7.207210884353741"
      ]
     },
     "execution_count": 70,
     "metadata": {},
     "output_type": "execute_result"
    }
   ],
   "source": [
    "d"
   ]
  },
  {
   "cell_type": "code",
   "execution_count": 71,
   "metadata": {},
   "outputs": [
    {
     "data": {
      "text/plain": [
       "(513, 4935)"
      ]
     },
     "execution_count": 71,
     "metadata": {},
     "output_type": "execute_result"
    }
   ],
   "source": [
    "st.shape"
   ]
  },
  {
   "cell_type": "code",
   "execution_count": 72,
   "metadata": {},
   "outputs": [],
   "source": [
    "np.savetxt('myfile1.csv', st, delimiter=',')"
   ]
  },
  {
   "cell_type": "code",
   "execution_count": 50,
   "metadata": {},
   "outputs": [],
   "source": [
    "import re\n",
    "import os, sys\n",
    "\n",
    "info_line = re.compile(r'\\[.+\\]\\n', re.IGNORECASE)\n",
    "\n",
    "Emotion, statement, gender = [], [], []\n",
    "\n",
    "for sess in range(1,10):\n",
    "    emo_evaluation_dir = r'C:/Users/LEGION/Documents/speech/RAVDESS/Actor_0{}/'.format(sess)\n",
    "    evaluation_files = [l for l in os.listdir(emo_evaluation_dir)]\n",
    "    \n",
    "    \n",
    "     for file in evaluation_files:\n",
    "        try:\n",
    "        y, sr = librosa.load(file,44100)\n",
    "        st=librosa.stft(y, n_fft=2048, hop_length=None, win_length=None, window='hann', center=False, dtype=None, pad_mode='reflect')\n",
    "        #Load librosa array, obtain mfcss, store the file and the mcss information in a new array\n",
    "        X, sample_rate = librosa.load(os.path.join(subdir,file), res_type='kaiser_fast')\n",
    "        mfccs = np.mean(librosa.feature.mfcc(y=X, sr=sample_rate, n_mfcc=40).T,axis=0) \n",
    "        file = file[6:8]\n",
    "        arr = mfccs, file\n",
    "        lst.append(arr)\n",
    "      # If the file is not valid, skip it\n",
    "      except ValueError:\n",
    "        continue"
   ]
  },
  {
   "cell_type": "code",
   "execution_count": 51,
   "metadata": {},
   "outputs": [
    {
     "name": "stdout",
     "output_type": "stream",
     "text": [
      "['03-01-01-01-01-01-09.wav', '03-01-01-01-01-02-09.wav', '03-01-01-01-02-01-09.wav', '03-01-01-01-02-02-09.wav', '03-01-02-01-01-01-09.wav', '03-01-02-01-01-02-09.wav', '03-01-02-01-02-01-09.wav', '03-01-02-01-02-02-09.wav', '03-01-02-02-01-01-09.wav', '03-01-02-02-01-02-09.wav', '03-01-02-02-02-01-09.wav', '03-01-02-02-02-02-09.wav', '03-01-03-01-01-01-09.wav', '03-01-03-01-01-02-09.wav', '03-01-03-01-02-01-09.wav', '03-01-03-01-02-02-09.wav', '03-01-03-02-01-01-09.wav', '03-01-03-02-01-02-09.wav', '03-01-03-02-02-01-09.wav', '03-01-03-02-02-02-09.wav', '03-01-04-01-01-01-09.wav', '03-01-04-01-01-02-09.wav', '03-01-04-01-02-01-09.wav', '03-01-04-01-02-02-09.wav', '03-01-04-02-01-01-09.wav', '03-01-04-02-01-02-09.wav', '03-01-04-02-02-01-09.wav', '03-01-04-02-02-02-09.wav', '03-01-05-01-01-01-09.wav', '03-01-05-01-01-02-09.wav', '03-01-05-01-02-01-09.wav', '03-01-05-01-02-02-09.wav', '03-01-05-02-01-01-09.wav', '03-01-05-02-01-02-09.wav', '03-01-05-02-02-01-09.wav', '03-01-05-02-02-02-09.wav', '03-01-06-01-01-01-09.wav', '03-01-06-01-01-02-09.wav', '03-01-06-01-02-01-09.wav', '03-01-06-01-02-02-09.wav', '03-01-06-02-01-01-09.wav', '03-01-06-02-01-02-09.wav', '03-01-06-02-02-01-09.wav', '03-01-06-02-02-02-09.wav', '03-01-07-01-01-01-09.wav', '03-01-07-01-01-02-09.wav', '03-01-07-01-02-01-09.wav', '03-01-07-01-02-02-09.wav', '03-01-07-02-01-01-09.wav', '03-01-07-02-01-02-09.wav', '03-01-07-02-02-01-09.wav', '03-01-07-02-02-02-09.wav', '03-01-08-01-01-01-09.wav', '03-01-08-01-01-02-09.wav', '03-01-08-01-02-01-09.wav', '03-01-08-01-02-02-09.wav', '03-01-08-02-01-01-09.wav', '03-01-08-02-01-02-09.wav', '03-01-08-02-02-01-09.wav', '03-01-08-02-02-02-09.wav']\n"
     ]
    }
   ],
   "source": []
  },
  {
   "cell_type": "code",
   "execution_count": 16,
   "metadata": {},
   "outputs": [],
   "source": [
    "file_path = 'Ses01F_impro01_F000.wav'\n",
    "y, sr = librosa.load(file_path,44100)\n",
    "x=librosa.feature.melspectrogram(y=y, sr=sr, S=None, n_fft=2048, hop_length=512, win_length=None, window='hann', center=True, pad_mode='reflect', power=2.0)"
   ]
  },
  {
   "cell_type": "code",
   "execution_count": 17,
   "metadata": {},
   "outputs": [
    {
     "data": {
      "text/plain": [
       "(128, 168)"
      ]
     },
     "execution_count": 17,
     "metadata": {},
     "output_type": "execute_result"
    }
   ],
   "source": [
    "x.shape\n",
    "z=librosa.stft(y, n_fft=2048, hop_length=None, win_length=None, window='hann', center=True, dtype=None, pad_mode='reflect')\n"
   ]
  },
  {
   "cell_type": "code",
   "execution_count": 14,
   "metadata": {},
   "outputs": [],
   "source": [
    "np.savetxt('myfile.csv', x, delimiter=',')"
   ]
  }
 ],
 "metadata": {
  "kernelspec": {
   "display_name": "Python 3",
   "language": "python",
   "name": "python3"
  },
  "language_info": {
   "codemirror_mode": {
    "name": "ipython",
    "version": 3
   },
   "file_extension": ".py",
   "mimetype": "text/x-python",
   "name": "python",
   "nbconvert_exporter": "python",
   "pygments_lexer": "ipython3",
   "version": "3.8.8"
  }
 },
 "nbformat": 4,
 "nbformat_minor": 4
}
